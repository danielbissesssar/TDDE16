{
 "cells": [
  {
   "cell_type": "markdown",
   "metadata": {},
   "source": [
    "# L3: Text clustering and topic modelling"
   ]
  },
  {
   "cell_type": "markdown",
   "metadata": {},
   "source": [
    "Text clustering groups documents in such a way that documents within a group are more &lsquo;similar&rsquo; to other documents in the cluster than to documents not in the cluster. The exact definition of what &lsquo;similar&rsquo; means in this context varies across applications and clustering algorithms.\n",
    "\n",
    "In this lab you will experiment with both hard and soft clustering techniques. More specifically, in the first part you will be using the $k$-means algorithm, and in the second part you will be using a topic model based on the Latent Dirichlet Allocation (LDA)."
   ]
  },
  {
   "cell_type": "markdown",
   "metadata": {},
   "source": [
    "**A quick reminder about our [Rules for hand-in assignments](https://www.ida.liu.se/~TDDE16/exam.en.shtml#handins) and the [Policy on cheating and plagiarism](https://www.ida.liu.se/~TDDE16/exam.en.shtml#cheating)**"
   ]
  },
  {
   "cell_type": "markdown",
   "metadata": {},
   "source": [
    "## Hard clustering data set"
   ]
  },
  {
   "cell_type": "markdown",
   "metadata": {},
   "source": [
    "The raw data for the hard clustering part of this lab is a collection of product reviews. We have preprocessed the data by tokenization and lowercasing."
   ]
  },
  {
   "cell_type": "code",
   "execution_count": 5,
   "metadata": {},
   "outputs": [],
   "source": [
    "import pandas as pd\n",
    "import bz2\n",
    "\n",
    "with bz2.open('reviews.json.bz2') as source:\n",
    "    df = pd.read_json(source)"
   ]
  },
  {
   "cell_type": "markdown",
   "metadata": {},
   "source": [
    "When you inspect the data frame, you can see that there are three labelled columns: `category` (the product category), `sentiment` (whether the product review was classified as &lsquo;positive&rsquo; or &lsquo;negative&rsquo; towards the product), and `text` (the space-separated text of the review)."
   ]
  },
  {
   "cell_type": "code",
   "execution_count": 6,
   "metadata": {},
   "outputs": [
    {
     "data": {
      "text/html": [
       "<div>\n",
       "<style scoped>\n",
       "    .dataframe tbody tr th:only-of-type {\n",
       "        vertical-align: middle;\n",
       "    }\n",
       "\n",
       "    .dataframe tbody tr th {\n",
       "        vertical-align: top;\n",
       "    }\n",
       "\n",
       "    .dataframe thead th {\n",
       "        text-align: right;\n",
       "    }\n",
       "</style>\n",
       "<table border=\"1\" class=\"dataframe\">\n",
       "  <thead>\n",
       "    <tr style=\"text-align: right;\">\n",
       "      <th></th>\n",
       "      <th>category</th>\n",
       "      <th>sentiment</th>\n",
       "      <th>text</th>\n",
       "    </tr>\n",
       "  </thead>\n",
       "  <tbody>\n",
       "    <tr>\n",
       "      <th>0</th>\n",
       "      <td>music</td>\n",
       "      <td>neg</td>\n",
       "      <td>i bought this album because i loved the title ...</td>\n",
       "    </tr>\n",
       "    <tr>\n",
       "      <th>1</th>\n",
       "      <td>music</td>\n",
       "      <td>neg</td>\n",
       "      <td>i was misled and thought i was buying the enti...</td>\n",
       "    </tr>\n",
       "    <tr>\n",
       "      <th>2</th>\n",
       "      <td>books</td>\n",
       "      <td>neg</td>\n",
       "      <td>i have introduced many of my ell , high school...</td>\n",
       "    </tr>\n",
       "    <tr>\n",
       "      <th>3</th>\n",
       "      <td>books</td>\n",
       "      <td>pos</td>\n",
       "      <td>anything you purchase in the left behind serie...</td>\n",
       "    </tr>\n",
       "    <tr>\n",
       "      <th>4</th>\n",
       "      <td>dvd</td>\n",
       "      <td>pos</td>\n",
       "      <td>i loved these movies , and i cant wiat for the...</td>\n",
       "    </tr>\n",
       "  </tbody>\n",
       "</table>\n",
       "</div>"
      ],
      "text/plain": [
       "  category sentiment                                               text\n",
       "0    music       neg  i bought this album because i loved the title ...\n",
       "1    music       neg  i was misled and thought i was buying the enti...\n",
       "2    books       neg  i have introduced many of my ell , high school...\n",
       "3    books       pos  anything you purchase in the left behind serie...\n",
       "4      dvd       pos  i loved these movies , and i cant wiat for the..."
      ]
     },
     "execution_count": 6,
     "metadata": {},
     "output_type": "execute_result"
    }
   ],
   "source": [
    "df.head()"
   ]
  },
  {
   "cell_type": "markdown",
   "metadata": {},
   "source": [
    "## Problem 1: K-means clustering"
   ]
  },
  {
   "cell_type": "markdown",
   "metadata": {},
   "source": [
    "Your first task is to cluster the product review data using a tf–idf vectorizer and a $k$-means clusterer."
   ]
  },
  {
   "cell_type": "markdown",
   "metadata": {},
   "source": [
    "Start by doing the vectorization. In connection with vectorization, you should also filter out standard English stop words. While you could use [spaCy](https://spacy.io/) for this task, here it suffices to use the word list implemented in [TfidfVectorizer](https://scikit-learn.org/stable/modules/generated/sklearn.feature_extraction.text.TfidfVectorizer.html)."
   ]
  },
  {
   "cell_type": "code",
   "execution_count": 7,
   "metadata": {},
   "outputs": [],
   "source": [
    "from sklearn.feature_extraction.text import TfidfVectorizer\n",
    "\n",
    "\n",
    "\n",
    "vectorizer = TfidfVectorizer(stop_words='english')\n",
    "reviews = vectorizer.fit_transform(df['text'])"
   ]
  },
  {
   "cell_type": "markdown",
   "metadata": {},
   "source": [
    "Test your vectorization by running the following code cell:"
   ]
  },
  {
   "cell_type": "code",
   "execution_count": 8,
   "metadata": {},
   "outputs": [
    {
     "data": {
      "text/plain": [
       "(11914, 46619)"
      ]
     },
     "execution_count": 8,
     "metadata": {},
     "output_type": "execute_result"
    }
   ],
   "source": [
    "reviews.shape"
   ]
  },
  {
   "cell_type": "markdown",
   "metadata": {},
   "source": [
    "If you used the English stop word list from scikit-learn, then the resulting vocabulary should have 46,619 entries."
   ]
  },
  {
   "cell_type": "markdown",
   "metadata": {},
   "source": [
    "Next, cluster the vectorized data. Before doing so, you should read the documentation of the [KMeans](https://scikit-learn.org/stable/modules/generated/sklearn.cluster.KMeans.html) class, which is scikit-learn&rsquo;s implementation of the $k$-means algorithm. As you can see, this class has several parameters that you can tweak. For now, the only parameter that you will have to set is the number of clusters. Start with $k=3$.\n",
    "\n",
    "**Tip:** Training $k$-means models will take some time. To speed things up, you can use the `n_init` parameter to control the number of times that the clustering is re-computed with different initial values. The default value for this parameter is 10; here and in the rest of this lab, you may want to set this to a lower value."
   ]
  },
  {
   "cell_type": "code",
   "execution_count": 9,
   "metadata": {},
   "outputs": [
    {
     "name": "stdout",
     "output_type": "stream",
     "text": [
      "(11914,)\n"
     ]
    }
   ],
   "source": [
    "from sklearn.cluster import KMeans\n",
    "import numpy as np\n",
    "\n",
    "kmeans = KMeans(n_clusters=3, n_init=10).fit(reviews)\n",
    "kmeans_predict = kmeans.predict(reviews)\n",
    "print(kmeans_predict.shape)"
   ]
  },
  {
   "cell_type": "markdown",
   "metadata": {},
   "source": [
    "To sanity-check your clustering, create a bar plot with the number of documents per cluster."
   ]
  },
  {
   "cell_type": "code",
   "execution_count": 10,
   "metadata": {},
   "outputs": [
    {
     "data": {
      "image/png": "[encoded data removed]",
      "text/plain": [
       "<Figure size 432x288 with 1 Axes>"
      ]
     },
     "metadata": {
      "needs_background": "light"
     },
     "output_type": "display_data"
    }
   ],
   "source": [
    "import matplotlib.pyplot as plt\n",
    "\n",
    "unique, counts = np.unique(kmeans_predict, return_counts=True)\n",
    "fig = plt.figure()\n",
    "ax = fig.add_axes([0,0,1,1])\n",
    "clusters = ['0','1','2']\n",
    "docs = dict(zip(unique, counts)).values()\n",
    "ax.bar(clusters,docs)\n",
    "plt.show()"
   ]
  },
  {
   "cell_type": "markdown",
   "metadata": {},
   "source": [
    "Note that sizes may vary considerable between clusters and among different random seeds."
   ]
  },
  {
   "cell_type": "markdown",
   "metadata": {},
   "source": [
    "## Problem 2: Summarize clusters"
   ]
  },
  {
   "cell_type": "markdown",
   "metadata": {},
   "source": [
    "Once you have a clustering, you can try to see whether it is meaningful. One useful technique in that context is to generate a **summary** for each cluster by extracting the $n$ highest-weighted terms from the centroid of each cluster. Your next task is to implement this approach.\n",
    "\n",
    "**Hint:** You will need to construct an &lsquo;inverted vocabulary&rsquo; that allows you to map from the index of a term back to the original term."
   ]
  },
  {
   "cell_type": "code",
   "execution_count": 11,
   "metadata": {},
   "outputs": [
    {
     "name": "stdout",
     "output_type": "stream",
     "text": [
      "cluster:  0\n",
      "product  use  software  does  great  program  used  just  work  time  \n",
      "\n",
      "cluster:  1\n",
      "book  movie  album  like  cd  just  music  quot  great  good  \n",
      "\n",
      "cluster:  2\n",
      "camera  lens  pictures  canon  digital  use  flash  battery  quality  great  \n",
      "\n"
     ]
    }
   ],
   "source": [
    "centroids = kmeans.cluster_centers_.argsort()[:,::-1]\n",
    "names = vectorizer.get_feature_names_out()\n",
    "\n",
    "for i in range(3):\n",
    "    print(\"cluster: \" , i)\n",
    "    for indexes in centroids[i,:10]:\n",
    "        print(names[indexes], end='  ')\n",
    "    print('\\n')\n"
   ]
  },
  {
   "cell_type": "markdown",
   "metadata": {},
   "source": [
    "Once you have computed the cluster summaries, take a minute to reflect on their quality. Is it clear what the reviews in a given cluster are about? Do the cluster summaries contain any unexpected terms?"
   ]
  },
  {
   "cell_type": "markdown",
   "metadata": {},
   "source": [
    "All the categories are clear, with them being software, books and then cameras. "
   ]
  },
  {
   "cell_type": "markdown",
   "metadata": {},
   "source": [
    "## Problem 3: Compare clusterings using the Rand index"
   ]
  },
  {
   "cell_type": "markdown",
   "metadata": {},
   "source": [
    "In some scenarios, you may have gold-standard class labels available for at least a subset of your documents. In these cases you can compute the **Rand index** of a clustering, and use this measure to compare the quality of different clusterings.\n",
    "\n",
    "To compute the Rand index, we view a clustering as a binary classifier on (unordered) pairs of documents. The classifier predicts &lsquo;positive&rsquo; if and only if the two documents belong to the same cluster. The (non-normalized) Rand index of the clustering is the accuracy of this classifier relative to a reference in which a document pair belongs to the &lsquo;positive&rsquo; class if and only if the two documents in the pair have the same gold-standard class label. You are supposed to implement the procedure yourselves, not import an external function.\n",
    "\n",
    "Compare clusterings with $k \\in \\{1,3,5,7\\}$ clusters. As your evaluation data, use the first 500 documents from the original data set along with their gold-standard categories (from the `category` column)."
   ]
  },
  {
   "cell_type": "code",
   "execution_count": 14,
   "metadata": {},
   "outputs": [
    {
     "name": "stdout",
     "output_type": "stream",
     "text": [
      "Cluster:  1  Acc:  0.16626052104208416\n",
      "Cluster:  3  Acc:  0.5363527054108217\n",
      "Cluster:  5  Acc:  0.8285851703406814\n",
      "Cluster:  7  Acc:  0.8261723446893787\n"
     ]
    }
   ],
   "source": [
    "clusters = [1,3,5,7]\n",
    "data = df.head(500)\n",
    "reviews = vectorizer.fit_transform(data['text'])\n",
    "\n",
    "\n",
    "\n",
    "for cluster in [1, 3, 5, 7]:\n",
    "    correct_array = []\n",
    "    kmeans = KMeans(n_clusters=cluster, n_init=10).fit(reviews)\n",
    "    kmeans_predict = kmeans.predict(reviews)[:500]\n",
    "    \n",
    "    for i in range(0,500):\n",
    "        for j in range(i+1,500):\n",
    "            if((kmeans_predict[i]==kmeans_predict[j]) and (data['category'][i]==data['category'][j])):\n",
    "                correct_array.append(1)\n",
    "            elif((kmeans_predict[i]!=kmeans_predict[j]) and (data['category'][i]!=data['category'][j])):\n",
    "                correct_array.append(1)\n",
    "            else:\n",
    "                correct_array.append(0)\n",
    "    print('Cluster: ',cluster,' Acc: ',sum(correct_array)/len(correct_array))\n",
    "\n"
   ]
  },
  {
   "cell_type": "markdown",
   "metadata": {},
   "source": [
    "We see that the accuracy for 1 cluster is very low, and that the highest rand index is with 5 clusters, which is in this case optimal and should be chosen"
   ]
  },
  {
   "cell_type": "markdown",
   "metadata": {},
   "source": [
    "## Topic modelling data set"
   ]
  },
  {
   "cell_type": "markdown",
   "metadata": {},
   "source": [
    "The data set for the topic modelling part of this lab is the collection of all [State of the Union](https://en.wikipedia.org/wiki/State_of_the_Union) addresses from the years 1975–2000. These speeches come as a single text file with one sentence per line. The following code cell prints the first 5 lines from the data file:"
   ]
  },
  {
   "cell_type": "code",
   "execution_count": 62,
   "metadata": {},
   "outputs": [
    {
     "name": "stdout",
     "output_type": "stream",
     "text": [
      "mr speaker mr vice president members of the 94th congress and distinguished guests\n",
      "twenty six years ago a freshman congressman a young fellow with lots of idealism who was out to change the world stood before sam rayburn in the well of the house and solemnly swore to the same oath that all of you took yesterday an unforgettable experience and i congratulate you all\n",
      "two days later that same freshman stood at the back of this great chamber over there someplace as president truman all charged up by his single handed election victory reported as the constitution requires on the state of the union\n",
      "when the bipartisan applause stopped president truman said i am happy to report to this 81st congress that the state of the union is good our nation is better able than ever before to meet the needs of the american people and to give them their fair chance in the pursuit of happiness it is foremost among the nations of the world in the search for peace\n",
      "today that freshman member from michigan stands where mr truman stood and i must say to you that the state of the union is not good\n",
      "millions of americans are out of work\n"
     ]
    }
   ],
   "source": [
    "with open('sotu_1975_2000.txt') as source:\n",
    "    for i, line in enumerate(source):\n",
    "        print(line.rstrip())\n",
    "        if i >= 5:\n",
    "            break"
   ]
  },
  {
   "cell_type": "markdown",
   "metadata": {},
   "source": [
    "Take a few minutes to think about what topics you would expect in this data set."
   ]
  },
  {
   "cell_type": "markdown",
   "metadata": {},
   "source": [
    "## Problem 4: Train a topic model"
   ]
  },
  {
   "cell_type": "markdown",
   "metadata": {},
   "source": [
    "Your first task on the topic modelling data is to train an LDA model. For this task you will be using [spaCy](https://spacy.io/) and the [gensim](https://radimrehurek.com/gensim/) topic modelling library.\n",
    "\n",
    "Start by preprocessing the data using spaCy. Given that the data set for this problem is rather small, you do not have to exclude any components from the standard pipeline. Filter out stop words, non-alphabetic tokens, and tokens less than 3 characters in length. Store the documents as a nested list where the first level of nesting corresponds to the sentences and the second level corresponds to the tokens in each sentence."
   ]
  },
  {
   "cell_type": "code",
   "execution_count": 14,
   "metadata": {},
   "outputs": [],
   "source": [
    "# TODO: Replace the following lines with your own code for preprocessing the documents\n",
    "import spacy\n",
    "nlp = spacy.load(\"en_core_web_sm\")\n",
    "\n",
    "def preprocess(doc):\n",
    "    to_process = nlp(doc)\n",
    "    output = []\n",
    "    for token in to_process:\n",
    "        if(not token.is_stop and token.lemma_.isalpha() and len(token)>2):\n",
    "            output.append(token.lemma_)\n",
    "    return output\n",
    "with open('sotu_1975_2000.txt') as source:\n",
    "    documents = [line.split() for line in source]\n",
    "    processed_documents = []\n",
    "    for sent in documents:\n",
    "        processed_documents.append(preprocess(str(sent)))"
   ]
  },
  {
   "cell_type": "markdown",
   "metadata": {},
   "source": [
    "Test your preprocessing by running the following cell:"
   ]
  },
  {
   "cell_type": "code",
   "execution_count": 15,
   "metadata": {},
   "outputs": [
    {
     "data": {
      "text/plain": [
       "'reduce oil import million barrel day end year million barrel day end'"
      ]
     },
     "execution_count": 15,
     "metadata": {},
     "output_type": "execute_result"
    }
   ],
   "source": [
    "' '.join(processed_documents[42])"
   ]
  },
  {
   "cell_type": "markdown",
   "metadata": {},
   "source": [
    "You should get the following output:"
   ]
  },
  {
   "cell_type": "raw",
   "metadata": {},
   "source": [
    "'reduce oil imports million barrels day end year million barrels day end'"
   ]
  },
  {
   "cell_type": "markdown",
   "metadata": {},
   "source": [
    "Once you have the list of documents, skim the section [Pre-process and vectorize the documents](https://radimrehurek.com/gensim/auto_examples/tutorials/run_lda.html#pre-process-and-vectorize-the-documents) of the gensim documentation to learn how to create the dictionary and the vectorized corpus representation required by gensim. (Note that you cannot use the standard scikit-learn pipeline in this case.) Then, write code to train an [LdaModel](https://radimrehurek.com/gensim/models/ldamodel.html) for $k=10$ topics, and using default values for all other parameters."
   ]
  },
  {
   "cell_type": "code",
   "execution_count": 18,
   "metadata": {},
   "outputs": [],
   "source": [
    "from gensim.corpora import Dictionary\n",
    "\n",
    "dictionary = Dictionary(processed_documents)\n",
    "dictionary.filter_extremes(no_below=20, no_above=0.5)\n",
    "corpus = [dictionary.doc2bow(doc) for doc in processed_documents]\n",
    "\n",
    "from gensim.models import LdaModel\n",
    "\n",
    "\n",
    "num_topics = 10\n",
    "temp = dictionary[0]\n",
    "id2word = dictionary.id2token\n",
    "\n",
    "model = LdaModel(\n",
    "    corpus=corpus,\n",
    "    id2word=id2word,\n",
    "    num_topics=num_topics,\n",
    ")"
   ]
  },
  {
   "cell_type": "markdown",
   "metadata": {},
   "source": [
    "Once you have a trained model, run the following cell to print the topics:"
   ]
  },
  {
   "cell_type": "code",
   "execution_count": 19,
   "metadata": {},
   "outputs": [
    {
     "data": {
      "text/plain": [
       "[(0,\n",
       "  '0.025*\"america\" + 0.022*\"new\" + 0.018*\"people\" + 0.015*\"year\" + 0.013*\"opportunity\" + 0.013*\"american\" + 0.012*\"nation\" + 0.011*\"proud\" + 0.011*\"americans\" + 0.011*\"life\"'),\n",
       " (1,\n",
       "  '0.023*\"year\" + 0.018*\"world\" + 0.016*\"people\" + 0.014*\"challenge\" + 0.013*\"let\" + 0.013*\"america\" + 0.012*\"tonight\" + 0.011*\"congress\" + 0.010*\"action\" + 0.009*\"government\"'),\n",
       " (2,\n",
       "  '0.018*\"know\" + 0.017*\"people\" + 0.017*\"work\" + 0.015*\"year\" + 0.013*\"help\" + 0.013*\"child\" + 0.013*\"government\" + 0.012*\"let\" + 0.011*\"crime\" + 0.011*\"need\"'),\n",
       " (3,\n",
       "  '0.025*\"child\" + 0.019*\"america\" + 0.016*\"year\" + 0.014*\"thank\" + 0.012*\"world\" + 0.012*\"american\" + 0.011*\"nation\" + 0.011*\"new\" + 0.010*\"ask\" + 0.010*\"begin\"'),\n",
       " (4,\n",
       "  '0.029*\"year\" + 0.019*\"cut\" + 0.018*\"budget\" + 0.011*\"america\" + 0.011*\"new\" + 0.010*\"tax\" + 0.009*\"increase\" + 0.009*\"congress\" + 0.009*\"deficit\" + 0.009*\"percent\"'),\n",
       " (5,\n",
       "  '0.025*\"child\" + 0.023*\"state\" + 0.022*\"year\" + 0.017*\"work\" + 0.016*\"country\" + 0.014*\"parent\" + 0.014*\"support\" + 0.012*\"right\" + 0.011*\"school\" + 0.011*\"help\"'),\n",
       " (6,\n",
       "  '0.027*\"work\" + 0.023*\"family\" + 0.023*\"year\" + 0.022*\"care\" + 0.018*\"child\" + 0.016*\"tax\" + 0.016*\"health\" + 0.015*\"welfare\" + 0.014*\"people\" + 0.012*\"medicare\"'),\n",
       " (7,\n",
       "  '0.030*\"work\" + 0.018*\"people\" + 0.018*\"school\" + 0.017*\"new\" + 0.014*\"community\" + 0.013*\"year\" + 0.013*\"america\" + 0.012*\"good\" + 0.012*\"government\" + 0.011*\"college\"'),\n",
       " (8,\n",
       "  '0.038*\"year\" + 0.023*\"america\" + 0.019*\"new\" + 0.015*\"economic\" + 0.014*\"job\" + 0.012*\"rate\" + 0.012*\"peace\" + 0.012*\"million\" + 0.011*\"help\" + 0.010*\"american\"'),\n",
       " (9,\n",
       "  '0.027*\"new\" + 0.021*\"america\" + 0.017*\"world\" + 0.014*\"good\" + 0.013*\"state\" + 0.013*\"work\" + 0.013*\"congress\" + 0.012*\"year\" + 0.011*\"trade\" + 0.011*\"people\"')]"
      ]
     },
     "execution_count": 19,
     "metadata": {},
     "output_type": "execute_result"
    }
   ],
   "source": [
    "model.print_topics()"
   ]
  },
  {
   "cell_type": "markdown",
   "metadata": {},
   "source": [
    "Inspect the topics. Can you &lsquo;label&rsquo; each topic with a short description of what it is about? Do the topics match your expectations?\n",
    "\n",
    "> **Answer:** each time it is run there are different topics. But generally there is a way to identify the different topics to some extent. For example:\n",
    "\n",
    "> > care health job work year family people ask need business\n",
    "\n",
    "> This topic would most likely be about \"health-care\" in the context of job/work/business. some words provide little meaning here, like the word 'year' which appear basically everywhere. Since the dataset is on a kind of new year speech, 'year' is a domain specific stop word that can be ignored. \n",
    "\n",
    "> Other roughly identified topics are: \"American national federal program\", \"Cut taxes for school\", \"Drug use report\", \"Peace and national security\", \"Something about good congress action?\", \"Unclear, year highly weighted\", \"Something about children this century\", \"Help children stay in school so they can work?\"\n",
    "\n",
    "> It is not always clear what the topic is about, but many of them seem to be about the expected topics of economy, education, children, etc."
   ]
  },
  {
   "cell_type": "markdown",
   "metadata": {},
   "source": [
    "## Problem 5: Monitor a topic model for convergence"
   ]
  },
  {
   "cell_type": "markdown",
   "metadata": {},
   "source": [
    "When learning an LDA model, it is important to make sure that the training algorithm has converged to a stable posterior distribution. One way to do so is to plot, after each training epochs (or &lsquo;pass&rsquo;, in gensim parlance) the log likelihood of the training data under the posterior. Your last task in this lab is to create such a plot and, based on this, to suggest an appropriate number of epochs.\n",
    "\n",
    "To collect information about the posterior likelihood after each pass, we need to enable the logging facilities of gensim. Once this is done, gensim will add various diagnostics to a log file `gensim.log`."
   ]
  },
  {
   "cell_type": "code",
   "execution_count": 20,
   "metadata": {},
   "outputs": [],
   "source": [
    "import logging\n",
    "\n",
    "logging.basicConfig(filename='gensim.log', format='%(asctime)s:%(levelname)s:%(message)s', level=logging.INFO)"
   ]
  },
  {
   "cell_type": "markdown",
   "metadata": {},
   "source": [
    "The following function will parse the generated logfile and return the list of log likelihoods."
   ]
  },
  {
   "cell_type": "code",
   "execution_count": 21,
   "metadata": {},
   "outputs": [],
   "source": [
    "import re\n",
    "\n",
    "def parse_logfile():\n",
    "    matcher = re.compile('(-*\\d+\\.\\d+) per-word .* (\\d+\\.\\d+) perplexity')\n",
    "    likelihoods = []\n",
    "    with open('gensim.log') as source:\n",
    "        for line in source:\n",
    "            match = matcher.search(line)\n",
    "            if match:\n",
    "                likelihoods.append(float(match.group(1)))\n",
    "    return likelihoods"
   ]
  },
  {
   "cell_type": "markdown",
   "metadata": {},
   "source": [
    "Your task now is to re-train your LDA model for 50&nbsp;passes, retrieve the list of log likelihoods, and create a plot from this data."
   ]
  },
  {
   "cell_type": "code",
   "execution_count": 22,
   "metadata": {},
   "outputs": [
    {
     "data": {
      "text/plain": [
       "[<matplotlib.lines.Line2D at 0x7f6c70b6b4c0>]"
      ]
     },
     "execution_count": 22,
     "metadata": {},
     "output_type": "execute_result"
    },
    {
     "data": {
      "image/png": "[encoded data removed]",
      "text/plain": [
       "<Figure size 432x288 with 1 Axes>"
      ]
     },
     "metadata": {
      "needs_background": "light"
     },
     "output_type": "display_data"
    }
   ],
   "source": [
    "model = LdaModel(\n",
    "    corpus=corpus,\n",
    "    id2word=id2word,\n",
    "    num_topics=num_topics,\n",
    "    passes=50,\n",
    ")\n",
    "log = parse_logfile()\n",
    "plt.plot(log)"
   ]
  },
  {
   "cell_type": "markdown",
   "metadata": {},
   "source": [
    "How do you interpret your plot? Based on the plot, what would be a reasonable choice for the number of passes? Retrain your LDA model with that number and re-inspect the topics it finds. Do you consider the new topics to be &lsquo;better&rsquo; than the ones that you got from the 1-pass model in Problem&nbsp;4?\n",
    "\n",
    "The increase in performance stagnates at about 30 passes, and thus we chose 30 for the amount of passes. We find the topics better and easier to understand now."
   ]
  },
  {
   "cell_type": "code",
   "execution_count": 23,
   "metadata": {},
   "outputs": [
    {
     "data": {
      "text/plain": [
       "[(0,\n",
       "  '0.024*\"world\" + 0.023*\"nation\" + 0.022*\"peace\" + 0.018*\"state\" + 0.017*\"nuclear\" + 0.016*\"united\" + 0.015*\"continue\" + 0.015*\"soviet\" + 0.015*\"force\" + 0.015*\"war\"'),\n",
       " (1,\n",
       "  '0.043*\"welfare\" + 0.043*\"president\" + 0.035*\"work\" + 0.027*\"congress\" + 0.021*\"year\" + 0.019*\"people\" + 0.017*\"know\" + 0.017*\"house\" + 0.017*\"want\" + 0.016*\"system\"'),\n",
       " (2,\n",
       "  '0.047*\"new\" + 0.043*\"job\" + 0.031*\"help\" + 0.031*\"community\" + 0.023*\"work\" + 0.022*\"business\" + 0.020*\"private\" + 0.020*\"woman\" + 0.017*\"create\" + 0.015*\"year\"'),\n",
       " (3,\n",
       "  '0.069*\"child\" + 0.063*\"school\" + 0.036*\"parent\" + 0.025*\"thank\" + 0.023*\"education\" + 0.021*\"year\" + 0.021*\"help\" + 0.020*\"teacher\" + 0.019*\"good\" + 0.018*\"drug\"'),\n",
       " (4,\n",
       "  '0.046*\"health\" + 0.044*\"care\" + 0.039*\"family\" + 0.031*\"work\" + 0.020*\"pay\" + 0.020*\"million\" + 0.019*\"child\" + 0.018*\"people\" + 0.018*\"year\" + 0.017*\"americans\"'),\n",
       " (5,\n",
       "  '0.033*\"people\" + 0.027*\"america\" + 0.026*\"year\" + 0.021*\"work\" + 0.018*\"americans\" + 0.016*\"know\" + 0.015*\"new\" + 0.014*\"american\" + 0.014*\"let\" + 0.013*\"crime\"'),\n",
       " (6,\n",
       "  '0.033*\"program\" + 0.032*\"federal\" + 0.028*\"year\" + 0.025*\"energy\" + 0.022*\"budget\" + 0.020*\"increase\" + 0.019*\"government\" + 0.017*\"new\" + 0.017*\"billion\" + 0.015*\"need\"'),\n",
       " (7,\n",
       "  '0.063*\"congress\" + 0.034*\"pass\" + 0.028*\"right\" + 0.026*\"bill\" + 0.026*\"legislation\" + 0.026*\"reform\" + 0.026*\"budget\" + 0.023*\"act\" + 0.022*\"ask\" + 0.020*\"year\"'),\n",
       " (8,\n",
       "  '0.035*\"america\" + 0.033*\"world\" + 0.021*\"future\" + 0.019*\"nation\" + 0.017*\"economy\" + 0.015*\"free\" + 0.015*\"great\" + 0.015*\"freedom\" + 0.015*\"american\" + 0.014*\"good\"'),\n",
       " (9,\n",
       "  '0.045*\"rate\" + 0.036*\"year\" + 0.033*\"problem\" + 0.032*\"cut\" + 0.029*\"economic\" + 0.028*\"low\" + 0.025*\"deficit\" + 0.025*\"growth\" + 0.024*\"inflation\" + 0.023*\"high\"')]"
      ]
     },
     "execution_count": 23,
     "metadata": {},
     "output_type": "execute_result"
    }
   ],
   "source": [
    "model = LdaModel(\n",
    "    corpus=corpus,\n",
    "    id2word=id2word,\n",
    "    num_topics=num_topics,\n",
    "    passes=30,\n",
    ")\n",
    "model.print_topics()"
   ]
  },
  {
   "cell_type": "markdown",
   "metadata": {},
   "source": [
    "## Reflection questions"
   ]
  },
  {
   "cell_type": "markdown",
   "metadata": {},
   "source": [
    "The following reflection questions are questions that you could be asked in the oral exam. Try to answer each of them in the form of a short text and enter it in the cell below. You will get feedback on your answers from your lab assistant."
   ]
  },
  {
   "cell_type": "markdown",
   "metadata": {},
   "source": [
    "**RQ 3.1:** Based on your experiments in Problem&nbsp;2 and Problem&nbsp;3, what is the relation between the quality of a clustering and the number of clusters? What happens when the number of clusters is too low, or too high? For this particular data set, what would a &lsquo;good&rsquo; number of clusters be?\n",
    "> As we saw earlier in the lab, a good amount of clusters for this lab was found to be 5. If too few clusters are used then several groups of data which are not connected will be forced into one large cluster. If too many clusters are used then groups which are connected in reality are split into more artificial clusters which worsens the quality and accuracy of the model.\n",
    "\n",
    "**RQ 3.2:** Explain why it is important to monitor an LDA model for convergence and not simply use, say, 1000&nbsp;passes. How is the log likelihood used in this context? Were the topics from the multi-pass model &lsquo;better&rsquo; than the topics from the 1-pass model?\n",
    "\n",
    "> In order to avoid overfitting, the number of passes should be stopped when the graph converges. in this context, the log likelihood is used for each training pass to get an understanding of how much change the passes bring relative to eachother. The plot indicates that the number of passes should be at the very least more than 5 for a good score, but after that the changes are quite slow. Somewhere between 20 and 30 the changes become relatively insignificant, for this example, which means that it has converged and should be stopped.  \n",
    "\n",
    "> The topics from the multi-pass model are much simpler to identify, having many more relevant terms for every topic, making it more straightforward and less ambiguous. There where however a few \"junk topics\" which basically consists of the domain specific stop words here, but they were also easy to identify and can thus simply be excluded when analysing the topics. \n",
    "\n",
    "**RQ 3.3:** What are the differences between $k$-means and LDA? When would you use one, when the other?\n",
    "\n",
    "> K-means is a so called \"hard clustering\" model and LDA is a \"soft clustering\" model. Hard clustering is binary in the sense that a data point either belong completely to a cluster, or not. Soft clustering on the other hand have its data points belonging to all clusters with a certain probability.\n",
    "\n",
    "> The hard clustering is fast and excellent when there is a need to classify documents to very specific classes, like for example: when determining if a review is positive or negative. \n",
    "Soft clustering, on the other hand, is great when the relevant classes are somewhat fussy and a document can belong to many at the same time, to a certain degree. For the topic identifier used in problem 4 and 5, this would be the more appropriate model. However, soft clustering is slower as there are more values to compute and as a result, it takes longer for the algorithms to converge."
   ]
  },
  {
   "cell_type": "markdown",
   "metadata": {},
   "source": [
    "*TODO: Enter your answers here*"
   ]
  },
  {
   "cell_type": "markdown",
   "metadata": {},
   "source": [
    "**Congratulations on finishing L3! 👍**"
   ]
  }
 ],
 "metadata": {
  "kernelspec": {
   "display_name": "Python 3 (ipykernel)",
   "language": "python",
   "name": "python3"
  },
  "language_info": {
   "codemirror_mode": {
    "name": "ipython",
    "version": 3
   },
   "file_extension": ".py",
   "mimetype": "text/x-python",
   "name": "python",
   "nbconvert_exporter": "python",
   "pygments_lexer": "ipython3",
   "version": "3.8.10"
  }
 },
 "nbformat": 4,
 "nbformat_minor": 2
}
